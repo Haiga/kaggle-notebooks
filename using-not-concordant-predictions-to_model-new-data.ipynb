{
  "nbformat": 4,
  "nbformat_minor": 0,
  "metadata": {
    "colab": {
      "name": "using not concordante predictions to model new data.ipynb",
      "provenance": [],
      "collapsed_sections": []
    },
    "kernelspec": {
      "name": "python3",
      "display_name": "Python 3"
    },
    "language_info": {
      "name": "python"
    }
  },
  "cells": [
    {
      "cell_type": "code",
      "metadata": {
        "id": "0IABIi5NAhut"
      },
      "source": [
        "# Using data from:\n",
        "# https://www.kaggle.com/c/tabular-playground-series-apr-2021"
      ],
      "execution_count": null,
      "outputs": []
    },
    {
      "cell_type": "code",
      "metadata": {
        "id": "PcplphczuCFc",
        "colab": {
          "base_uri": "https://localhost:8080/"
        },
        "outputId": "b352279f-29cc-4c5a-8bac-f515c62713e0"
      },
      "source": [
        "%ls\n",
        "!unzip test.csv.zip\n",
        "!unzip train.csv.zip"
      ],
      "execution_count": null,
      "outputs": [
        {
          "output_type": "stream",
          "text": [
            "\u001b[0m\u001b[01;34msample_data\u001b[0m/           test.csv      train.csv\n",
            "sample_submission.csv  test.csv.zip  train.csv.zip\n",
            "Archive:  test.csv.zip\n",
            "replace test.csv? [y]es, [n]o, [A]ll, [N]one, [r]ename: "
          ],
          "name": "stdout"
        }
      ]
    },
    {
      "cell_type": "code",
      "metadata": {
        "colab": {
          "base_uri": "https://localhost:8080/",
          "height": 225
        },
        "id": "ZD-30jy9oqlM",
        "outputId": "ce750f3d-917f-4e0a-8fe6-28d2d0f302eb"
      },
      "source": [
        "import pandas as pd\n",
        "import numpy as np\n",
        "from sklearn.impute import *\n",
        "\n",
        "train = pd.read_csv('train.csv')\n",
        "test = pd.read_csv('test.csv')\n",
        "y = train.Survived\n",
        "\n",
        "print(np.sum(train.PassengerId == test.PassengerId))\n",
        "\n",
        "train.drop(['PassengerId', 'Survived', 'Name', 'Ticket'], axis=1, inplace=True)\n",
        "test.drop(['PassengerId', 'Name', 'Ticket'], axis=1, inplace=True)\n",
        "\n",
        "train.head()"
      ],
      "execution_count": null,
      "outputs": [
        {
          "output_type": "stream",
          "text": [
            "0\n"
          ],
          "name": "stdout"
        },
        {
          "output_type": "execute_result",
          "data": {
            "text/html": [
              "<div>\n",
              "<style scoped>\n",
              "    .dataframe tbody tr th:only-of-type {\n",
              "        vertical-align: middle;\n",
              "    }\n",
              "\n",
              "    .dataframe tbody tr th {\n",
              "        vertical-align: top;\n",
              "    }\n",
              "\n",
              "    .dataframe thead th {\n",
              "        text-align: right;\n",
              "    }\n",
              "</style>\n",
              "<table border=\"1\" class=\"dataframe\">\n",
              "  <thead>\n",
              "    <tr style=\"text-align: right;\">\n",
              "      <th></th>\n",
              "      <th>Pclass</th>\n",
              "      <th>Sex</th>\n",
              "      <th>Age</th>\n",
              "      <th>SibSp</th>\n",
              "      <th>Parch</th>\n",
              "      <th>Fare</th>\n",
              "      <th>Cabin</th>\n",
              "      <th>Embarked</th>\n",
              "    </tr>\n",
              "  </thead>\n",
              "  <tbody>\n",
              "    <tr>\n",
              "      <th>0</th>\n",
              "      <td>1</td>\n",
              "      <td>male</td>\n",
              "      <td>NaN</td>\n",
              "      <td>2</td>\n",
              "      <td>0</td>\n",
              "      <td>27.14</td>\n",
              "      <td>C12239</td>\n",
              "      <td>S</td>\n",
              "    </tr>\n",
              "    <tr>\n",
              "      <th>1</th>\n",
              "      <td>3</td>\n",
              "      <td>male</td>\n",
              "      <td>NaN</td>\n",
              "      <td>0</td>\n",
              "      <td>0</td>\n",
              "      <td>13.35</td>\n",
              "      <td>NaN</td>\n",
              "      <td>S</td>\n",
              "    </tr>\n",
              "    <tr>\n",
              "      <th>2</th>\n",
              "      <td>3</td>\n",
              "      <td>male</td>\n",
              "      <td>0.33</td>\n",
              "      <td>1</td>\n",
              "      <td>2</td>\n",
              "      <td>71.29</td>\n",
              "      <td>NaN</td>\n",
              "      <td>S</td>\n",
              "    </tr>\n",
              "    <tr>\n",
              "      <th>3</th>\n",
              "      <td>3</td>\n",
              "      <td>male</td>\n",
              "      <td>19.00</td>\n",
              "      <td>0</td>\n",
              "      <td>0</td>\n",
              "      <td>13.04</td>\n",
              "      <td>NaN</td>\n",
              "      <td>S</td>\n",
              "    </tr>\n",
              "    <tr>\n",
              "      <th>4</th>\n",
              "      <td>3</td>\n",
              "      <td>male</td>\n",
              "      <td>25.00</td>\n",
              "      <td>0</td>\n",
              "      <td>0</td>\n",
              "      <td>7.76</td>\n",
              "      <td>NaN</td>\n",
              "      <td>S</td>\n",
              "    </tr>\n",
              "  </tbody>\n",
              "</table>\n",
              "</div>"
            ],
            "text/plain": [
              "   Pclass   Sex    Age  SibSp  Parch   Fare   Cabin Embarked\n",
              "0       1  male    NaN      2      0  27.14  C12239        S\n",
              "1       3  male    NaN      0      0  13.35     NaN        S\n",
              "2       3  male   0.33      1      2  71.29     NaN        S\n",
              "3       3  male  19.00      0      0  13.04     NaN        S\n",
              "4       3  male  25.00      0      0   7.76     NaN        S"
            ]
          },
          "metadata": {
            "tags": []
          },
          "execution_count": 1
        }
      ]
    },
    {
      "cell_type": "code",
      "metadata": {
        "colab": {
          "base_uri": "https://localhost:8080/"
        },
        "id": "6Qz8_sxg2n0U",
        "outputId": "479b78a3-4c63-4e4f-8ac4-0e6ef81d13b9"
      },
      "source": [
        "target_column = 'Age'\n",
        "train[train[target_column].notnull()].info()"
      ],
      "execution_count": null,
      "outputs": [
        {
          "output_type": "stream",
          "text": [
            "<class 'pandas.core.frame.DataFrame'>\n",
            "Int64Index: 96708 entries, 2 to 99999\n",
            "Data columns (total 8 columns):\n",
            " #   Column    Non-Null Count  Dtype  \n",
            "---  ------    --------------  -----  \n",
            " 0   Pclass    96708 non-null  int64  \n",
            " 1   Sex       96708 non-null  object \n",
            " 2   Age       96708 non-null  float64\n",
            " 3   SibSp     96708 non-null  int64  \n",
            " 4   Parch     96708 non-null  int64  \n",
            " 5   Fare      96579 non-null  float64\n",
            " 6   Cabin     31089 non-null  object \n",
            " 7   Embarked  96460 non-null  object \n",
            "dtypes: float64(2), int64(3), object(3)\n",
            "memory usage: 6.6+ MB\n"
          ],
          "name": "stdout"
        }
      ]
    },
    {
      "cell_type": "code",
      "metadata": {
        "colab": {
          "base_uri": "https://localhost:8080/"
        },
        "id": "uIEaWF4jv2Im",
        "outputId": "d64c03fb-3a9b-4f4c-ab3d-22c9e0eda180"
      },
      "source": [
        "columns_to_fit = []\n",
        "for key in train.keys():\n",
        "    if key == target_column: continue\n",
        "    if train[target_column].notnull().sum() == train[train[target_column].notnull()][key].notnull().sum():\n",
        "        columns_to_fit.append(key)\n",
        "\n",
        "columns_to_fit"
      ],
      "execution_count": null,
      "outputs": [
        {
          "output_type": "execute_result",
          "data": {
            "text/plain": [
              "['Pclass', 'Sex', 'SibSp', 'Parch']"
            ]
          },
          "metadata": {
            "tags": []
          },
          "execution_count": 3
        }
      ]
    },
    {
      "cell_type": "code",
      "metadata": {
        "colab": {
          "base_uri": "https://localhost:8080/"
        },
        "id": "2ED48hCOx1OH",
        "outputId": "f3b93245-02ce-4667-ac4c-9220256a7ffb"
      },
      "source": [
        "not_append, to_append = [], []\n",
        "for column in columns_to_fit:\n",
        "    if train[column].dtype == np.float64:\n",
        "        not_append.append(column)\n",
        "    else:\n",
        "        to_append.append(column)\n",
        "print(not_append)\n",
        "print(to_append)"
      ],
      "execution_count": null,
      "outputs": [
        {
          "output_type": "stream",
          "text": [
            "[]\n",
            "['Pclass', 'Sex', 'SibSp', 'Parch']\n"
          ],
          "name": "stdout"
        }
      ]
    },
    {
      "cell_type": "code",
      "metadata": {
        "id": "kDAdWX_pzgrn"
      },
      "source": [
        "from sklearn.preprocessing import *\n",
        "\n",
        "onehotencoder = OneHotEncoder()\n",
        "categorical = train[train[target_column].notnull()][to_append]\n",
        "X = onehotencoder.fit_transform(categorical).toarray()"
      ],
      "execution_count": null,
      "outputs": []
    },
    {
      "cell_type": "code",
      "metadata": {
        "id": "6Gx7KG-E2uQX"
      },
      "source": [
        "X = np.concatenate((X, train[train[target_column].notnull()][not_append]), axis=1)"
      ],
      "execution_count": null,
      "outputs": []
    },
    {
      "cell_type": "code",
      "metadata": {
        "colab": {
          "base_uri": "https://localhost:8080/"
        },
        "id": "IKSf76Rs0Ez3",
        "outputId": "11216c76-8ef1-4948-e2aa-680f85e381d3"
      },
      "source": [
        "from sklearn.linear_model import LinearRegression\n",
        "from sklearn.tree import DecisionTreeRegressor\n",
        "\n",
        "from sklearn.metrics import mean_squared_error, accuracy_score\n",
        "\n",
        "model = DecisionTreeRegressor()\n",
        "# model = LinearRegression()\n",
        "model.fit(X, train[train[target_column].notnull()][target_column])\n",
        "yp = model.predict(X)\n",
        "\n",
        "print(mean_squared_error(yp, train[train[target_column].notnull()][target_column]))"
      ],
      "execution_count": null,
      "outputs": [
        {
          "output_type": "stream",
          "text": [
            "279.80903767909723\n"
          ],
          "name": "stdout"
        }
      ]
    },
    {
      "cell_type": "code",
      "metadata": {
        "id": "jd-X1HLw1TQJ"
      },
      "source": [
        "Xt = onehotencoder.transform(train[to_append]).toarray()\n",
        "Xt = np.concatenate((Xt, train[not_append]), axis=1)\n",
        "\n",
        "ypt = model.predict(Xt)"
      ],
      "execution_count": null,
      "outputs": []
    },
    {
      "cell_type": "code",
      "metadata": {
        "id": "qbbiTrxj6-xP"
      },
      "source": [
        "result = train[target_column].isnull() * ypt"
      ],
      "execution_count": null,
      "outputs": []
    },
    {
      "cell_type": "code",
      "metadata": {
        "id": "-J8Zy1wl7xnX"
      },
      "source": [
        "train.fillna({target_column: 0}, inplace=True)\n",
        "train[target_column] = train[target_column] + result"
      ],
      "execution_count": null,
      "outputs": []
    },
    {
      "cell_type": "code",
      "metadata": {
        "id": "XFiK-s0vAAFj"
      },
      "source": [
        "from sklearn.linear_model import LinearRegression\n",
        "from sklearn.tree import DecisionTreeRegressor\n",
        "from sklearn.metrics import mean_squared_error, accuracy_score\n",
        "from sklearn.preprocessing import *\n",
        "\n",
        "def doMethodImpute(data, target_column, model=DecisionTreeRegressor):\n",
        "    class doMethodImputeIntern():\n",
        "        def __init__(self, target_column, not_append, to_append, onehotencoder, model):\n",
        "            self.target_column = target_column\n",
        "            self.not_append = not_append\n",
        "            self.to_append = to_append\n",
        "            self.onehotencoder = onehotencoder\n",
        "            self.model = model\n",
        "\n",
        "        def transform(self, new_data):\n",
        "            Xt = self.onehotencoder.transform(new_data[self.to_append]).toarray()\n",
        "            Xt = np.concatenate((Xt, new_data[self.not_append]), axis=1)\n",
        "            ypt = self.model.predict(Xt)\n",
        "\n",
        "            result = new_data[self.target_column].isnull() * ypt\n",
        "            new_data.fillna({self.target_column: 0}, inplace=True)\n",
        "            new_data[self.target_column] = new_data[self.target_column] + result\n",
        "            return self\n",
        "\n",
        "    columns_to_fit = []\n",
        "    for key in data.keys():\n",
        "        if key == target_column: continue\n",
        "        if data[target_column].notnull().sum() == data[data[target_column].notnull()][key].notnull().sum():\n",
        "            columns_to_fit.append(key)\n",
        "\n",
        "    not_append, to_append = [], []\n",
        "    for column in columns_to_fit:\n",
        "        if data[column].dtype == np.float64:\n",
        "            not_append.append(column)\n",
        "        else:\n",
        "            to_append.append(column)\n",
        "\n",
        "    onehotencoder = OneHotEncoder()\n",
        "    categorical = data[data[target_column].notnull()][to_append]\n",
        "    X = onehotencoder.fit_transform(categorical).toarray()\n",
        "    X = np.concatenate((X, data[data[target_column].notnull()][not_append]), axis=1)\n",
        "\n",
        "    model = model()\n",
        "    model.fit(X, data[data[target_column].notnull()][target_column])\n",
        "    yp = model.predict(X)\n",
        "\n",
        "    Xt = onehotencoder.transform(data[to_append]).toarray()\n",
        "    Xt = np.concatenate((Xt, data[not_append]), axis=1)\n",
        "    ypt = model.predict(Xt)\n",
        "\n",
        "    result = data[target_column].isnull() * ypt\n",
        "    data.fillna({target_column: 0}, inplace=True)\n",
        "    data[target_column] = data[target_column] + result\n",
        "    return doMethodImputeIntern(target_column, not_append, to_append, onehotencoder, model)"
      ],
      "execution_count": null,
      "outputs": []
    },
    {
      "cell_type": "code",
      "metadata": {
        "colab": {
          "base_uri": "https://localhost:8080/"
        },
        "id": "96kkoOGcBumA",
        "outputId": "db0961eb-1e9c-41f2-882d-2836ad4903d7"
      },
      "source": [
        "imputer = doMethodImpute(train, 'Age')\n",
        "imputer.transform(test)"
      ],
      "execution_count": null,
      "outputs": [
        {
          "output_type": "execute_result",
          "data": {
            "text/plain": [
              "<__main__.doMethodImpute.<locals>.doMethodImputeIntern at 0x7f08b86eff50>"
            ]
          },
          "metadata": {
            "tags": []
          },
          "execution_count": 12
        }
      ]
    },
    {
      "cell_type": "code",
      "metadata": {
        "colab": {
          "base_uri": "https://localhost:8080/"
        },
        "id": "eKhlHKQoHVlz",
        "outputId": "a0fc353a-14ea-4d44-fb9d-44ee24c79870"
      },
      "source": [
        "imputer = doMethodImpute(train, 'Fare')\n",
        "imputer.transform(test)"
      ],
      "execution_count": null,
      "outputs": [
        {
          "output_type": "execute_result",
          "data": {
            "text/plain": [
              "<__main__.doMethodImpute.<locals>.doMethodImputeIntern at 0x7f08b82ef6d0>"
            ]
          },
          "metadata": {
            "tags": []
          },
          "execution_count": 13
        }
      ]
    },
    {
      "cell_type": "code",
      "metadata": {
        "id": "gt2SoK4NMdH2"
      },
      "source": [
        "train.fillna({'Cabin': \"NE\"}, inplace=True)\n",
        "test.fillna({'Cabin': \"NE\"}, inplace=True)\n",
        "\n",
        "train.fillna({'Embarked': \"NE\"}, inplace=True)\n",
        "test.fillna({'Embarked': \"NE\"}, inplace=True)"
      ],
      "execution_count": null,
      "outputs": []
    },
    {
      "cell_type": "code",
      "metadata": {
        "id": "KSAHGo3zNXpL"
      },
      "source": [
        "for data in [train, test]:\n",
        "    cabins_vec = []\n",
        "    for i in data['Cabin']:\n",
        "        if str(i) == 'NE':\n",
        "            cabins_vec.append(\"NE\")\n",
        "        else:\n",
        "            cabins_vec.append(i[0])\n",
        "    data['Cabin'] = pd.Series(cabins_vec)"
      ],
      "execution_count": null,
      "outputs": []
    },
    {
      "cell_type": "code",
      "metadata": {
        "id": "0ncoqh6UOJ1l"
      },
      "source": [
        "for data in [train, test]:\n",
        "    embk_vec = []\n",
        "    for i in data['Embarked']:\n",
        "        if str(i) == 'NE':\n",
        "            embk_vec.append(\"NE\")\n",
        "        else:\n",
        "            embk_vec.append(i)\n",
        "    data['Embarked'] = pd.Series(embk_vec)"
      ],
      "execution_count": null,
      "outputs": []
    },
    {
      "cell_type": "code",
      "metadata": {
        "id": "o_A4q4DcRFMn"
      },
      "source": [
        "from sklearn.preprocessing import KBinsDiscretizer\n",
        "\n",
        "enc = KBinsDiscretizer(n_bins=10, encode='onehot')\n",
        "enc = enc.fit(train['Age'].to_numpy().reshape(-1, 1))\n",
        "Age_discretized_train = enc.transform(train['Age'].to_numpy().reshape(-1, 1))\n",
        "Age_discretized_test = enc.transform(test['Age'].to_numpy().reshape(-1, 1))\n",
        "# print(Age_discretized_train)\n",
        "\n",
        "train['Fare'] = np.log(train['Fare'])\n",
        "test['Fare'] = np.log(test['Fare'])\n",
        "enc = KBinsDiscretizer(n_bins=20, encode='onehot')\n",
        "enc = enc.fit(train['Fare'].to_numpy().reshape(-1, 1))\n",
        "Fare_discretized_train = enc.transform(train['Fare'].to_numpy().reshape(-1, 1))\n",
        "Fare_discretized_test = enc.transform(test['Fare'].to_numpy().reshape(-1, 1))\n",
        "\n"
      ],
      "execution_count": null,
      "outputs": []
    },
    {
      "cell_type": "code",
      "metadata": {
        "id": "PSLVe5PepA29"
      },
      "source": [
        "from sklearn.preprocessing import *\n",
        "categorical_features = ['Pclass', 'Sex', 'SibSp', 'Parch', 'Cabin', 'Embarked']\n",
        "cat = train[categorical_features]\n",
        "cat_t = test[categorical_features]\n",
        "onehotencoder = OneHotEncoder()\n",
        "X = onehotencoder.fit_transform(cat).toarray()\n",
        "Xt =  onehotencoder.fit_transform(cat_t).toarray()"
      ],
      "execution_count": null,
      "outputs": []
    },
    {
      "cell_type": "code",
      "metadata": {
        "id": "_hGTTcPkVEeq"
      },
      "source": [
        "X = np.concatenate([X, Age_discretized_train.toarray(), Fare_discretized_train.toarray()], axis=1)\n",
        "Xt = np.concatenate((Xt, Age_discretized_test.toarray(), Fare_discretized_test.toarray()), axis=1)"
      ],
      "execution_count": null,
      "outputs": []
    },
    {
      "cell_type": "code",
      "metadata": {
        "id": "q_hd2PuFWtJ8"
      },
      "source": [
        "from sklearn.model_selection import train_test_split\n",
        "X_train, X_test, y_train, y_test = train_test_split(X, y, test_size=0.20, random_state=42)"
      ],
      "execution_count": null,
      "outputs": []
    },
    {
      "cell_type": "code",
      "metadata": {
        "id": "OpkkFrP6pH68",
        "colab": {
          "base_uri": "https://localhost:8080/"
        },
        "outputId": "73a0d3cd-1470-439b-f386-5905f7560d41"
      },
      "source": [
        "from sklearn.tree import DecisionTreeClassifier\n",
        "from sklearn.ensemble import RandomForestClassifier\n",
        "from sklearn.metrics import mean_squared_error, accuracy_score\n",
        "from xgboost import XGBClassifier\n",
        "from lightgbm import LGBMClassifier\n",
        "from sklearn.svm import SVC\n",
        "from sklearn.ensemble import BaggingClassifier\n",
        "from sklearn.linear_model import RidgeClassifier\n",
        "\n",
        "\n",
        "rf = RandomForestClassifier(n_estimators=50)\n",
        "ridge = RidgeClassifier()\n",
        "# bg = BaggingClassifier(base_estimator=SVC(max_iter=300), n_estimators=10)\n",
        "bg = LGBMClassifier()\n",
        "\n",
        "rf.fit(X_train, y_train)\n",
        "rf_pred_train = rf.predict(X_train)\n",
        "rf_pred_test = rf.predict(X_test)\n",
        "print(f\"RF acc: {accuracy_score(y_test, rf_pred_test)} \")\n",
        "\n",
        "ridge.fit(X_train, y_train)\n",
        "ridge_pred_train = ridge.predict(X_train)\n",
        "ridge_pred_test = ridge.predict(X_test)\n",
        "print(f\"Ridge acc: {accuracy_score(y_test, ridge_pred_test)} \")\n",
        "\n",
        "bg.fit(X_train, y_train)\n",
        "bg_pred_train = bg.predict(X_train)\n",
        "bg_pred_test = bg.predict(X_test)\n",
        "print(f\"BG acc: {accuracy_score(y_test, bg_pred_test)} \")\n",
        "\n"
      ],
      "execution_count": null,
      "outputs": [
        {
          "output_type": "stream",
          "text": [
            "RF acc: 0.75655 \n",
            "Ridge acc: 0.7769 \n",
            "BG acc: 0.77905 \n"
          ],
          "name": "stdout"
        }
      ]
    },
    {
      "cell_type": "code",
      "metadata": {
        "colab": {
          "base_uri": "https://localhost:8080/"
        },
        "id": "AtzL7UM05vQl",
        "outputId": "d890f25b-2b2d-4f11-9182-5b7384fecf4b"
      },
      "source": [
        "# rf_pred_train == ridge_pred_train bg_pred_train\n",
        "\n",
        "eq1 = rf_pred_train == ridge_pred_train\n",
        "eq2 = ridge_pred_train == bg_pred_train\n",
        "\n",
        "concordance = eq1 * eq2\n",
        "\n",
        "np.sum(concordance)/len(X_train)"
      ],
      "execution_count": null,
      "outputs": [
        {
          "output_type": "execute_result",
          "data": {
            "text/plain": [
              "0.857875"
            ]
          },
          "metadata": {
            "tags": []
          },
          "execution_count": 22
        }
      ]
    },
    {
      "cell_type": "code",
      "metadata": {
        "id": "DBqqKriD7enW"
      },
      "source": [
        "not_concordance = concordance == False"
      ],
      "execution_count": null,
      "outputs": []
    },
    {
      "cell_type": "code",
      "metadata": {
        "colab": {
          "base_uri": "https://localhost:8080/"
        },
        "id": "XMwY6svE7Vtp",
        "outputId": "55a07b96-d824-4816-95d1-51aad0e76e4c"
      },
      "source": [
        "len(X_train), len(y_train)"
      ],
      "execution_count": null,
      "outputs": [
        {
          "output_type": "execute_result",
          "data": {
            "text/plain": [
              "(80000, 80000)"
            ]
          },
          "metadata": {
            "tags": []
          },
          "execution_count": 24
        }
      ]
    },
    {
      "cell_type": "code",
      "metadata": {
        "colab": {
          "base_uri": "https://localhost:8080/"
        },
        "id": "A4Q5Q1w77SXB",
        "outputId": "d4f001dd-68c7-49d1-f220-0c5582f7e2e7"
      },
      "source": [
        "len(X_train[not_concordance]), len(y_train[not_concordance])"
      ],
      "execution_count": null,
      "outputs": [
        {
          "output_type": "execute_result",
          "data": {
            "text/plain": [
              "(11370, 11370)"
            ]
          },
          "metadata": {
            "tags": []
          },
          "execution_count": 25
        }
      ]
    },
    {
      "cell_type": "code",
      "metadata": {
        "colab": {
          "base_uri": "https://localhost:8080/"
        },
        "id": "0xfAgDaD7syE",
        "outputId": "0f28e321-8a8d-4c13-e02e-5cdea44e08c1"
      },
      "source": [
        "xgb = XGBClassifier(n_jobs=-1)\n",
        "xgb.fit(X_train[not_concordance], y_train[not_concordance])\n",
        "\n",
        "xgb_pred_train = xgb.predict(X_train)\n",
        "xgb_pred_test = xgb.predict(X_test)\n",
        "print(f\"xgb acc: {accuracy_score(y_test, xgb_pred_test)} \")"
      ],
      "execution_count": null,
      "outputs": [
        {
          "output_type": "stream",
          "text": [
            "xgb acc: 0.2252 \n"
          ],
          "name": "stdout"
        }
      ]
    },
    {
      "cell_type": "code",
      "metadata": {
        "colab": {
          "base_uri": "https://localhost:8080/"
        },
        "id": "SmehhQ6N8riK",
        "outputId": "38999ce3-1cfe-4057-e829-f1f19f88fdfd"
      },
      "source": [
        "X_train.shape"
      ],
      "execution_count": null,
      "outputs": [
        {
          "output_type": "execute_result",
          "data": {
            "text/plain": [
              "(80000, 63)"
            ]
          },
          "metadata": {
            "tags": []
          },
          "execution_count": 27
        }
      ]
    },
    {
      "cell_type": "code",
      "metadata": {
        "id": "HMaeM6YE8FlL"
      },
      "source": [
        "new_train = np.stack([rf_pred_train, ridge_pred_train, bg_pred_train, xgb_pred_train]).T\n",
        "new_test = np.stack([rf_pred_test, ridge_pred_test, bg_pred_test, xgb_pred_test]).T"
      ],
      "execution_count": null,
      "outputs": []
    },
    {
      "cell_type": "code",
      "metadata": {
        "id": "EZOw8bYG-jyi"
      },
      "source": [
        "new_train = np.concatenate((new_train, X_train), axis=1)\n",
        "new_test = np.concatenate((new_test, X_test), axis=1)"
      ],
      "execution_count": null,
      "outputs": []
    },
    {
      "cell_type": "code",
      "metadata": {
        "colab": {
          "base_uri": "https://localhost:8080/"
        },
        "id": "lmLMZFzR9Fo6",
        "outputId": "f7aaab95-e52e-42c9-f1cb-3ae8c1713c8c"
      },
      "source": [
        "xgb_final = XGBClassifier(n_jobs=-1)\n",
        "xgb_final.fit(new_train, y_train)\n",
        "\n",
        "xgb_final_pred_train = xgb_final.predict(new_train)\n",
        "xgb_final_pred_test = xgb_final.predict(new_test)\n",
        "print(f\"xgb final acc: {accuracy_score(y_test, xgb_final_pred_test)} \")"
      ],
      "execution_count": null,
      "outputs": [
        {
          "output_type": "stream",
          "text": [
            "xgb final acc: 0.75655 \n"
          ],
          "name": "stdout"
        }
      ]
    },
    {
      "cell_type": "code",
      "metadata": {
        "id": "q_QWNptt_XaE"
      },
      "source": [
        "#BAD =("
      ],
      "execution_count": null,
      "outputs": []
    },
    {
      "cell_type": "code",
      "metadata": {
        "id": "VgDRi4SD_TT7"
      },
      "source": [
        "new_Xt = np.stack([rf.predict(Xt), ridge.predict(Xt), bg.predict(Xt), xgb.predict(Xt)]).T\n",
        "new_Xt = np.concatenate((new_Xt, Xt), axis=1)"
      ],
      "execution_count": null,
      "outputs": []
    },
    {
      "cell_type": "code",
      "metadata": {
        "id": "KtvDLjfIaCAj"
      },
      "source": [
        "yp = xgb_final.predict(new_Xt)\n",
        "\n",
        "with open('pred.csv', 'w') as out, open('test.csv') as inp:\n",
        "    out.write('PassengerId,Survived\\n')\n",
        "    inp.readline()\n",
        "    for v in yp:\n",
        "        line = inp.readline().split(\",\")[0]\n",
        "        out.write(line + \",\" + str(int(v)) + \"\\n\")"
      ],
      "execution_count": null,
      "outputs": []
    }
  ]
}